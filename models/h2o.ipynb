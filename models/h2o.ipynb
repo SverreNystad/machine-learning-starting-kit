{
 "cells": [
  {
   "cell_type": "markdown",
   "metadata": {},
   "source": [
    "# H2O AutoML \n"
   ]
  },
  {
   "cell_type": "markdown",
   "metadata": {},
   "source": [
    "## Setup"
   ]
  },
  {
   "cell_type": "code",
   "execution_count": null,
   "metadata": {},
   "outputs": [],
   "source": [
    "import sys\n",
    "import os\n",
    "\n",
    "# Get the current working directory\n",
    "current_working_directory = os.getcwd()\n",
    "\n",
    "# Go up one level from the current working directory\n",
    "parent_directory = os.path.join(current_working_directory, '..')\n",
    "\n",
    "# Add the parent directory to sys.path\n",
    "sys.path.append(parent_directory)\n",
    "\n",
    "os.getcwd()"
   ]
  },
  {
   "cell_type": "code",
   "execution_count": null,
   "metadata": {},
   "outputs": [],
   "source": [
    "%pip install h2o"
   ]
  },
  {
   "cell_type": "code",
   "execution_count": null,
   "metadata": {},
   "outputs": [],
   "source": [
    "%load_ext autoreload"
   ]
  },
  {
   "cell_type": "code",
   "execution_count": null,
   "metadata": {},
   "outputs": [],
   "source": [
    "%autoreload 2\n",
    "\n",
    "from sklearn.metrics import accuracy_score, classification_report\n",
    "import pandas as pd\n",
    "import h2o\n",
    "from h2o.automl import H2OAutoML\n",
    "\n",
    "from src.ml_service import prepare_data, prepare_test_data, save_predictions\n",
    "from src.config import TARGET_FEATURE"
   ]
  },
  {
   "cell_type": "markdown",
   "metadata": {},
   "source": [
    "## Load data"
   ]
  },
  {
   "cell_type": "code",
   "execution_count": null,
   "metadata": {},
   "outputs": [],
   "source": [
    "x_train, _, x_test, y_train, _, y_test = prepare_data(validation_size=0, test_size=0.1)\n",
    "training_data = pd.concat([x_train, y_train], axis=1)\n",
    "\n",
    "# Convert the pandas DataFrame to H2O Frame\n",
    "training_data = h2o.H2OFrame(training_data)"
   ]
  },
  {
   "cell_type": "markdown",
   "metadata": {},
   "source": [
    "## Train model"
   ]
  },
  {
   "cell_type": "code",
   "execution_count": null,
   "metadata": {},
   "outputs": [],
   "source": [
    "# Start the H2O cluster (locally)\n",
    "h2o.init()\n",
    "training_features: list[str] = x_train.columns.tolist()\n",
    "# Run AutoML for 20 base models\n",
    "predictor = H2OAutoML(max_models=20, seed=1)"
   ]
  },
  {
   "cell_type": "code",
   "execution_count": null,
   "metadata": {},
   "outputs": [],
   "source": [
    "predictor.train(x=training_features, y=TARGET_FEATURE, training_frame=training_data)\n",
    "\n",
    "# View the AutoML Leaderboard\n",
    "lb = predictor.leaderboard\n",
    "lb.head(rows=lb.nrows)  # Print all rows instead of default (10 rows)\n",
    "\n"
   ]
  },
  {
   "cell_type": "markdown",
   "metadata": {},
   "source": [
    "## Make predictions"
   ]
  },
  {
   "cell_type": "code",
   "execution_count": null,
   "metadata": {},
   "outputs": [],
   "source": [
    "# Evaluate on the test set\n",
    "y_test_pred = predictor.predict(x_test)\n",
    "test_accuracy = accuracy_score(y_test, y_test_pred)\n",
    "print(\"Test Accuracy: \", test_accuracy)\n",
    "print(\"Test Classification Report:\\n\", classification_report(y_test, y_test_pred))"
   ]
  },
  {
   "cell_type": "markdown",
   "metadata": {},
   "source": [
    "## Save model"
   ]
  },
  {
   "cell_type": "code",
   "execution_count": null,
   "metadata": {},
   "outputs": [],
   "source": [
    "x_final_test = prepare_test_data()\n",
    "final_predictions = predictor.predict(x_final_test)"
   ]
  },
  {
   "cell_type": "code",
   "execution_count": null,
   "metadata": {},
   "outputs": [],
   "source": [
    "# Save the final predictions as a CSV file\n",
    "save_predictions(final_predictions, f'h2o_automl')"
   ]
  },
  {
   "cell_type": "code",
   "execution_count": null,
   "metadata": {},
   "outputs": [],
   "source": [
    "# Get the best model using the metric\n",
    "m = predictor.leader\n",
    "# this is equivalent to# Get the best model using the metric\n",
    "m = predictor.leader\n",
    "# this is equivalent to\n",
    "m = predictor.get_best_model()\n",
    "\n",
    "# Get the best model using a non-default metric\n",
    "m = predictor.get_best_model(criterion=\"logloss\")\n",
    "\n",
    "# Get the best XGBoost model using default sort metric\n",
    "xgb = predictor.get_best_model(algorithm=\"xgboost\")\n",
    "\n",
    "# Get the best XGBoost model, ranked by logloss\n",
    "xgb = predictor.get_best_model(algorithm=\"xgboost\", criterion=\"logloss\")\n",
    "m = predictor.get_best_model()\n",
    "\n",
    "# Get the best model using a non-default metric\n",
    "m = predictor.get_best_model(criterion=\"logloss\")\n",
    "\n",
    "# Get the best XGBoost model using default sort metric\n",
    "xgb = predictor.get_best_model(algorithm=\"xgboost\")\n",
    "\n",
    "# Get the best XGBoost model, ranked by logloss\n",
    "xgb = predictor.get_best_model(algorithm=\"xgboost\", criterion=\"logloss\")"
   ]
  },
  {
   "cell_type": "code",
   "execution_count": null,
   "metadata": {},
   "outputs": [],
   "source": [
    "# View the parameters for the XGBoost model selected above\n",
    "xgb.params.keys()"
   ]
  },
  {
   "cell_type": "markdown",
   "metadata": {},
   "source": [
    "## Explaining\n",
    "https://docs.h2o.ai/h2o/latest-stable/h2o-docs/explain.html\n"
   ]
  }
 ],
 "metadata": {
  "kernelspec": {
   "display_name": "Python 3",
   "language": "python",
   "name": "python3"
  },
  "language_info": {
   "codemirror_mode": {
    "name": "ipython",
    "version": 3
   },
   "file_extension": ".py",
   "mimetype": "text/x-python",
   "name": "python",
   "nbconvert_exporter": "python",
   "pygments_lexer": "ipython3",
   "version": "3.10.5"
  }
 },
 "nbformat": 4,
 "nbformat_minor": 2
}
