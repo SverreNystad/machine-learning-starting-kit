{
 "cells": [
  {
   "cell_type": "markdown",
   "metadata": {},
   "source": [
    "# AutoMlJar"
   ]
  },
  {
   "cell_type": "markdown",
   "metadata": {},
   "source": [
    "## Setup\n",
    "### Correct the path"
   ]
  },
  {
   "cell_type": "code",
   "execution_count": null,
   "metadata": {},
   "outputs": [],
   "source": [
    "import sys\n",
    "import os\n",
    "\n",
    "# Get the current working directory\n",
    "current_working_directory = os.getcwd()\n",
    "\n",
    "# Go up one level from the current working directory\n",
    "parent_directory = os.path.join(current_working_directory, '..')\n",
    "\n",
    "# Add the parent directory to sys.path\n",
    "sys.path.append(parent_directory)\n",
    "\n",
    "os.getcwd()"
   ]
  },
  {
   "cell_type": "code",
   "execution_count": null,
   "metadata": {},
   "outputs": [],
   "source": [
    "%pip install mljar-supervised\n",
    "%pip install scikit-learn\n",
    "%pip install pandas"
   ]
  },
  {
   "cell_type": "code",
   "execution_count": null,
   "metadata": {},
   "outputs": [],
   "source": [
    "%load_ext autoreload"
   ]
  },
  {
   "cell_type": "code",
   "execution_count": null,
   "metadata": {},
   "outputs": [],
   "source": [
    "%autoreload \n",
    "\n",
    "# Import the necessary libraries\n",
    "%matplotlib inline\n",
    "import warnings\n",
    "from datetime import datetime\n",
    "import numpy as np\n",
    "import pandas as pd\n",
    "from sklearn.metrics import accuracy_score \n",
    "from supervised.automl import AutoML\n",
    "\n",
    "pd.set_option('display.max_columns', 200)\n",
    "warnings.filterwarnings('ignore')\n",
    "\n",
    "from src.features.post_processor import save_predictions\n",
    "from src.features.ml_service import  prepare_data, prepare_test_data"
   ]
  },
  {
   "cell_type": "markdown",
   "metadata": {},
   "source": [
    "## Load data"
   ]
  },
  {
   "cell_type": "code",
   "execution_count": null,
   "metadata": {},
   "outputs": [],
   "source": [
    "x_train, x_val, x_test, y_train, y_val, y_test = prepare_data()\n",
    "train_data = pd.concat([x_train, y_train], axis=1)"
   ]
  },
  {
   "cell_type": "markdown",
   "metadata": {},
   "source": [
    "## Train model"
   ]
  },
  {
   "cell_type": "code",
   "execution_count": null,
   "metadata": {},
   "outputs": [],
   "source": [
    "\n",
    "# Initialize MLJAR AutoML\n",
    "automl = AutoML(mode=\"Explain\", \n",
    "    random_state=42,\n",
    "    n_jobs=-1, \n",
    "    golden_features=True,\n",
    "    features_selection=True,\n",
    "    stack_models=True\n",
    "    )  # You can also use mode like \"Perform\", \"Compete\" etc. based on your need\n",
    "\n",
    "# Train the model\n",
    "# MLJAR can handle DataFrame with target column, so you can concatenate your X and y\n",
    "\n",
    "# Fit the model\n",
    "automl.fit(x_train, y_train)\n"
   ]
  },
  {
   "cell_type": "markdown",
   "metadata": {},
   "source": [
    "## Make predictions"
   ]
  },
  {
   "cell_type": "code",
   "execution_count": null,
   "metadata": {},
   "outputs": [],
   "source": [
    "\n",
    "# To evaluate the model, you can use the AutoML `predict` method\n",
    "predictions = automl.predict(x_val)\n",
    "\n",
    "# Calculate accuracy or any other performance metric that you wish to use\n",
    "\n",
    "accuracy = accuracy_score(y_val, predictions)\n",
    "print(f\"Validation Accuracy: {accuracy}\")\n",
    "\n",
    "# MLJAR also provides a leaderboard with model performance\n",
    "automl.report()\n"
   ]
  },
  {
   "cell_type": "markdown",
   "metadata": {},
   "source": [
    "## Save model"
   ]
  },
  {
   "cell_type": "code",
   "execution_count": null,
   "metadata": {},
   "outputs": [],
   "source": [
    "x_test = prepare_test_data()\n",
    "final_predictions = automl.predict(x_test)\n",
    "\n",
    "save_predictions(final_predictions, 'mljar_automl')"
   ]
  }
 ],
 "metadata": {
  "kernelspec": {
   "display_name": "Python 3",
   "language": "python",
   "name": "python3"
  },
  "language_info": {
   "codemirror_mode": {
    "name": "ipython",
    "version": 3
   },
   "file_extension": ".py",
   "mimetype": "text/x-python",
   "name": "python",
   "nbconvert_exporter": "python",
   "pygments_lexer": "ipython3",
   "version": "3.11.2"
  }
 },
 "nbformat": 4,
 "nbformat_minor": 2
}
