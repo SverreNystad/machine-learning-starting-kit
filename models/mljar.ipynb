{
 "cells": [
  {
   "cell_type": "markdown",
   "metadata": {},
   "source": [
    "# AutoML MLJar\n",
    "The mljar-supervised library is an automated machine learning (AutoML) tool tailored for working with tabular datasets in Python. Aimed at optimizing a data scientist's workflow, it simplifies the process by automating data preprocessing, machine learning model construction, and hyperparameter optimization to identify the optimal model. Far from being a mysterious black-box, it provides complete transparency into the construction of the ML pipeline, offering detailed Markdown reports for each model created."
   ]
  },
  {
   "cell_type": "markdown",
   "metadata": {},
   "source": [
    "## Setup"
   ]
  },
  {
   "cell_type": "code",
   "execution_count": null,
   "metadata": {},
   "outputs": [],
   "source": [
    "import sys\n",
    "import os\n",
    "\n",
    "# Get the current working directory\n",
    "current_working_directory = os.getcwd()\n",
    "\n",
    "# Go up one level from the current working directory\n",
    "parent_directory = os.path.join(current_working_directory, '..')\n",
    "\n",
    "# Add the parent directory to sys.path\n",
    "sys.path.append(parent_directory)\n",
    "\n",
    "os.getcwd()"
   ]
  },
  {
   "cell_type": "code",
   "execution_count": null,
   "metadata": {},
   "outputs": [],
   "source": [
    "%pip install mljar-supervised\n",
    "%pip install scikit-learn\n",
    "%pip install pandas"
   ]
  },
  {
   "cell_type": "code",
   "execution_count": null,
   "metadata": {},
   "outputs": [],
   "source": [
    "%load_ext autoreload"
   ]
  },
  {
   "cell_type": "code",
   "execution_count": null,
   "metadata": {},
   "outputs": [],
   "source": [
    "%autoreload \n",
    "\n",
    "# Import the necessary libraries\n",
    "%matplotlib inline\n",
    "import warnings\n",
    "import pandas as pd\n",
    "from sklearn.metrics import accuracy_score, classification_report \n",
    "from supervised.automl import AutoML\n",
    "\n",
    "pd.set_option('display.max_columns', 200)\n",
    "warnings.filterwarnings('ignore')\n",
    "\n",
    "from src.ml_service import prepare_data, prepare_test_data, save_predictions"
   ]
  },
  {
   "cell_type": "markdown",
   "metadata": {},
   "source": [
    "## Load data"
   ]
  },
  {
   "cell_type": "code",
   "execution_count": null,
   "metadata": {},
   "outputs": [],
   "source": [
    "x_train, _, x_test, y_train, _, y_test = prepare_data(validation_size=0.0, test_size=0.1)"
   ]
  },
  {
   "cell_type": "markdown",
   "metadata": {},
   "source": [
    "## Train model\n",
    "\n",
    "**Evaluation metrics:**\n",
    "- for binary classification: `logloss`, `auc`, `f1`, `average_precision`, `accuracy` - default is logloss (if left \"auto\")\n",
    "- for mutliclass classification: `logloss`, `f1`, `accuracy` - default is `logloss` (if left \"auto\")\n",
    "- for regression: `rmse`, `mse`, `mae`, `r2`, `mape`, `spearman`, `pearson` - default is `rmse` (if left \"auto\")\n",
    "\n",
    "**Explain level:**\n",
    "Specifies the amount of interoperability detail provided with the model's predictions, ranging from 0 (minimal) to 2 (extensive), enabling users to adjust the balance between simplicity and depth of insight into how the model makes its decisions.\n",
    "\n",
    "**Golden features:**\n",
    "Activates the creation of new features from existing ones by exploring their interactions, potentially uncovering extremely valuable patterns to enhance model accuracy. \n",
    "\n",
    "**n_jobs:**\n",
    "Determines the number of CPU cores used for parallel processing, with -1 utilizing all available cores to speed up the training process.\n",
    "\n",
    "**stack_models:**\n",
    "Enables stacking of multiple models to improve predictions, leveraging the strengths of various models by using their predictions as inputs to a final model, thereby potentially increasing overall accuracy."
   ]
  },
  {
   "cell_type": "code",
   "execution_count": null,
   "metadata": {},
   "outputs": [],
   "source": [
    "# Initialize MLJAR AutoML\n",
    "time_limit = 4 * 60 # 24 * 60 * 60 \n",
    "predictor = AutoML(mode=\"Explain\", \n",
    "    random_state=42,\n",
    "    total_time_limit=time_limit,\n",
    "    n_jobs=-1, \n",
    "    golden_features=True,\n",
    "    features_selection=True,\n",
    "    stack_models=True,\n",
    "    explain_level=2,\n",
    "    )\n",
    "\n",
    "# Train the model\n",
    "predictor.fit(x_train, y_train)\n"
   ]
  },
  {
   "cell_type": "markdown",
   "metadata": {},
   "source": [
    "## Make predictions"
   ]
  },
  {
   "cell_type": "code",
   "execution_count": null,
   "metadata": {},
   "outputs": [],
   "source": [
    "# Evaluate on the test set\n",
    "y_test_pred = predictor.predict(x_test)\n",
    "test_accuracy = accuracy_score(y_test, y_test_pred)\n",
    "print(\"Test Accuracy: \", test_accuracy)\n",
    "print(\"Test Classification Report:\\n\", classification_report(y_test, y_test_pred))\n",
    "# MLJAR also provides a leaderboard with model performance\n",
    "predictor.report()"
   ]
  },
  {
   "cell_type": "markdown",
   "metadata": {},
   "source": [
    "## Save model"
   ]
  },
  {
   "cell_type": "code",
   "execution_count": null,
   "metadata": {},
   "outputs": [],
   "source": [
    "x_test = prepare_test_data()\n",
    "final_predictions = pd.DataFrame(predictor.predict(x_test))\n",
    "\n",
    "save_predictions(final_predictions, 'mljar_automl')"
   ]
  }
 ],
 "metadata": {
  "kernelspec": {
   "display_name": "Python 3",
   "language": "python",
   "name": "python3"
  },
  "language_info": {
   "codemirror_mode": {
    "name": "ipython",
    "version": 3
   },
   "file_extension": ".py",
   "mimetype": "text/x-python",
   "name": "python",
   "nbconvert_exporter": "python",
   "pygments_lexer": "ipython3",
   "version": "3.10.5"
  }
 },
 "nbformat": 4,
 "nbformat_minor": 2
}
