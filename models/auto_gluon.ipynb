{
 "cells": [
  {
   "cell_type": "markdown",
   "metadata": {},
   "source": [
    "# AutoGluon\n",
    "AutoGluon is a fully automated machine learning (ML) toolkit that simplifies the process of developing and fine-tuning machine learning models. Designed for both beginners and experienced ML practitioners, AutoGluon enables users to achieve high-quality model performance with minimal effort and domain knowledge. At its core, AutoGluon automates model selection, hyperparameter tuning, and ensemble creation, allowing for the efficient handling of various types of data, including tabular, image, and text datasets. By abstracting the complexity of underlying algorithms, AutoGluon facilitates rapid prototyping and deployment of ML applications, making advanced ML techniques accessible and practical for a wide range of applications. "
   ]
  },
  {
   "cell_type": "markdown",
   "metadata": {},
   "source": [
    "## Setup"
   ]
  },
  {
   "cell_type": "code",
   "execution_count": null,
   "metadata": {},
   "outputs": [],
   "source": [
    "import sys\n",
    "import os\n",
    "\n",
    "# Get the current working directory\n",
    "current_working_directory = os.getcwd()\n",
    "\n",
    "# Go up one level from the current working directory\n",
    "parent_directory = os.path.join(current_working_directory, '..')\n",
    "\n",
    "# Add the parent directory to sys.path\n",
    "sys.path.append(parent_directory)\n",
    "\n",
    "os.getcwd()"
   ]
  },
  {
   "cell_type": "code",
   "execution_count": null,
   "metadata": {},
   "outputs": [],
   "source": [
    "%pip install autogluon\n",
    "%pip install scikit-learn"
   ]
  },
  {
   "cell_type": "code",
   "execution_count": null,
   "metadata": {},
   "outputs": [],
   "source": [
    "%load_ext autoreload"
   ]
  },
  {
   "cell_type": "code",
   "execution_count": null,
   "metadata": {},
   "outputs": [],
   "source": [
    "%autoreload \n",
    "\n",
    "from sklearn.metrics import accuracy_score, classification_report\n",
    "import autogluon.core as ag\n",
    "from autogluon.tabular import TabularDataset, TabularPredictor\n",
    "\n",
    "from src.features.post_processor import save_predictions\n",
    "from src.features.ml_service import  prepare_data, prepare_test_data\n",
    "from src.config import TARGET_FEATURES"
   ]
  },
  {
   "cell_type": "markdown",
   "metadata": {},
   "source": [
    "## Load data"
   ]
  },
  {
   "cell_type": "code",
   "execution_count": null,
   "metadata": {},
   "outputs": [],
   "source": [
    "x_train, _, x_test, y_train, _, y_test = prepare_data(validation_size=0, test_size=0.1)\n",
    "for target_feature_name in TARGET_FEATURES:\n",
    "    x_train[target_feature_name] = y_train\n",
    "\n",
    "data = TabularDataset(x_train)"
   ]
  },
  {
   "cell_type": "markdown",
   "metadata": {},
   "source": [
    "## Train model\n",
    "\n",
    "AutoGloun does not require any hyperparameters to be set. It will automatically select the best model and hyperparameters based on the data.\n",
    "Nor does it need any tuning data. It will automatically split the data into training and validation sets. AutoGloun will split the data more intelligently to fit its needs.\n",
    "\n",
    "**Evaluation metrics:**\n",
    "* 'f1' (for binary classification)\n",
    "* 'roc_auc' (for binary classification)\n",
    "* 'log_loss' (for classification)\n",
    "* 'mean_absolute_error' (for regression)\n",
    "* 'median_absolute_error' (for regression) \n",
    "* You can also define your own custom metric function, see examples in the folder: autogluon/core/metrics/\n",
    "See autoGluon documentation for more details: [AutoGluon Documentation](https://auto.gluon.ai/scoredebugweight/tutorials/tabular_prediction/tabular-quickstart.html)\n",
    "\n",
    "One should also look at parameters: `num_bag_folds`, `num_bag_sets` and `num_stack_levels` parameters. These parameters can help to improve the model's performance.\n",
    "\n",
    "To see all possible parameters for the .fit() method, see the [AutoGluon documentation .fit()](https://auto.gluon.ai/scoredebugweight/api/autogluon.predictor.html#autogluon.tabular.TabularPredictor.fit)"
   ]
  },
  {
   "cell_type": "code",
   "execution_count": null,
   "metadata": {},
   "outputs": [],
   "source": [
    "# Initialize the AutoGluon TabularPredictor\n",
    "time_limit = 24*60*60 # Set this to longest time you are willing to wait (in seconds)\n",
    "metric = 'roc_auc'\n",
    "predictor = TabularPredictor(label=target_feature_name, eval_metric=metric).fit(data, time_limit=time_limit, presets='best_quality')"
   ]
  },
  {
   "cell_type": "markdown",
   "metadata": {},
   "source": [
    "### Loading pre-trained model\n",
    "AutoGluon provides a simple way to load a pre-trained model."
   ]
  },
  {
   "cell_type": "code",
   "execution_count": null,
   "metadata": {},
   "outputs": [],
   "source": [
    "if predictor is None:\n",
    "    # TODO Correct model path to the one that was saved\n",
    "    model_path = \"AutogluonModels/ag-20240326_133920/\"\n",
    "    predictor = TabularPredictor.load(model_path)\n",
    "predictor.fit_summary()"
   ]
  },
  {
   "cell_type": "markdown",
   "metadata": {},
   "source": [
    "## Make predictions"
   ]
  },
  {
   "cell_type": "code",
   "execution_count": null,
   "metadata": {},
   "outputs": [],
   "source": [
    "# Evaluate on the test set\n",
    "y_test_pred = predictor.predict(x_test)\n",
    "test_accuracy = accuracy_score(y_test, y_test_pred)\n",
    "print(\"Test Accuracy: \", test_accuracy)\n",
    "print(\"Test Classification Report:\\n\", classification_report(y_test, y_test_pred))\n",
    "# predictor.leaderboard(x_test, silent=True)\n"
   ]
  },
  {
   "cell_type": "markdown",
   "metadata": {},
   "source": [
    "## Save model"
   ]
  },
  {
   "cell_type": "code",
   "execution_count": null,
   "metadata": {},
   "outputs": [],
   "source": [
    "x_test = prepare_test_data()\n",
    "final_predictions = predictor.predict(x_test)"
   ]
  },
  {
   "cell_type": "code",
   "execution_count": null,
   "metadata": {},
   "outputs": [],
   "source": [
    "# Save the final predictions as a CSV file\n",
    "save_predictions(final_predictions, f'predictions_auto_gluon')"
   ]
  }
 ],
 "metadata": {
  "kernelspec": {
   "display_name": "Python 3",
   "language": "python",
   "name": "python3"
  },
  "language_info": {
   "codemirror_mode": {
    "name": "ipython",
    "version": 3
   },
   "file_extension": ".py",
   "mimetype": "text/x-python",
   "name": "python",
   "nbconvert_exporter": "python",
   "pygments_lexer": "ipython3",
   "version": "3.10.5"
  }
 },
 "nbformat": 4,
 "nbformat_minor": 2
}
