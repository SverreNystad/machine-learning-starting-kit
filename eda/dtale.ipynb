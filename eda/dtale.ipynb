{
 "cells": [
  {
   "cell_type": "markdown",
   "metadata": {},
   "source": [
    "# Exploratory Data Analysis (EDA)"
   ]
  },
  {
   "cell_type": "code",
   "execution_count": 1,
   "metadata": {},
   "outputs": [
    {
     "data": {
      "text/plain": [
       "'c:\\\\Users\\\\sverr\\\\OneDrive\\\\Desktop\\\\ai\\\\machine-learning-structure\\\\eda'"
      ]
     },
     "execution_count": 1,
     "metadata": {},
     "output_type": "execute_result"
    }
   ],
   "source": [
    "\n",
    "import sys\n",
    "import os\n",
    "\n",
    "# Get the current working directory\n",
    "current_working_directory = os.getcwd()\n",
    "\n",
    "# Go up one level from the current working directory\n",
    "parent_directory = os.path.join(current_working_directory, '..')\n",
    "\n",
    "# Add the parent directory to sys.path\n",
    "sys.path.append(parent_directory)\n",
    "\n",
    "os.getcwd()"
   ]
  },
  {
   "cell_type": "code",
   "execution_count": 2,
   "metadata": {},
   "outputs": [
    {
     "name": "stdout",
     "output_type": "stream",
     "text": [
      "Requirement already satisfied: dataprep in c:\\users\\sverr\\appdata\\local\\programs\\python\\python311\\lib\\site-packages (0.4.1)\n",
      "Requirement already satisfied: aiohttp<4.0,>=3.6 in c:\\users\\sverr\\appdata\\local\\programs\\python\\python311\\lib\\site-packages (from dataprep) (3.9.3)\n",
      "Requirement already satisfied: bokeh<3,>=2 in c:\\users\\sverr\\appdata\\local\\programs\\python\\python311\\lib\\site-packages (from dataprep) (2.4.3)\n",
      "Requirement already satisfied: bottleneck<2.0,>=1.3 in c:\\users\\sverr\\appdata\\local\\programs\\python\\python311\\lib\\site-packages (from dataprep) (1.3.8)\n",
      "Requirement already satisfied: dask[array,dataframe,delayed]<3.0,>=2.25 in c:\\users\\sverr\\appdata\\local\\programs\\python\\python311\\lib\\site-packages (from dataprep) (2.30.0)\n",
      "Requirement already satisfied: flask<2.0.0,>=1.1.4 in c:\\users\\sverr\\appdata\\local\\programs\\python\\python311\\lib\\site-packages (from dataprep) (1.1.4)\n",
      "Requirement already satisfied: flask_cors<4.0.0,>=3.0.10 in c:\\users\\sverr\\appdata\\local\\programs\\python\\python311\\lib\\site-packages (from dataprep) (3.0.10)\n",
      "Requirement already satisfied: ipywidgets<8.0,>=7.5 in c:\\users\\sverr\\appdata\\local\\programs\\python\\python311\\lib\\site-packages (from dataprep) (7.8.1)\n",
      "Requirement already satisfied: jinja2<3.0,>=2.11 in c:\\users\\sverr\\appdata\\local\\programs\\python\\python311\\lib\\site-packages (from dataprep) (2.11.3)\n",
      "Requirement already satisfied: jsonpath-ng<2.0,>=1.5 in c:\\users\\sverr\\appdata\\local\\programs\\python\\python311\\lib\\site-packages (from dataprep) (1.6.1)\n",
      "Requirement already satisfied: levenshtein<0.13.0,>=0.12.0 in c:\\users\\sverr\\appdata\\local\\programs\\python\\python311\\lib\\site-packages (from dataprep) (0.12.0)\n",
      "Requirement already satisfied: metaphone<0.7,>=0.6 in c:\\users\\sverr\\appdata\\local\\programs\\python\\python311\\lib\\site-packages (from dataprep) (0.6)\n",
      "Requirement already satisfied: nltk<4.0,>=3.5 in c:\\users\\sverr\\appdata\\local\\programs\\python\\python311\\lib\\site-packages (from dataprep) (3.6.3)\n",
      "Requirement already satisfied: numpy<2,>=1 in c:\\users\\sverr\\appdata\\local\\programs\\python\\python311\\lib\\site-packages (from dataprep) (1.26.4)\n",
      "Requirement already satisfied: pandas<2.0,>=1.1 in c:\\users\\sverr\\appdata\\local\\programs\\python\\python311\\lib\\site-packages (from dataprep) (1.5.3)\n",
      "Requirement already satisfied: pydantic<2.0,>=1.6 in c:\\users\\sverr\\appdata\\local\\programs\\python\\python311\\lib\\site-packages (from dataprep) (1.10.14)\n",
      "Requirement already satisfied: python-stdnum<2.0,>=1.16 in c:\\users\\sverr\\appdata\\local\\programs\\python\\python311\\lib\\site-packages (from dataprep) (1.20)\n",
      "Requirement already satisfied: regex<2021.0.0,>=2020.10.15 in c:\\users\\sverr\\appdata\\local\\programs\\python\\python311\\lib\\site-packages (from dataprep) (2020.11.13)\n",
      "Requirement already satisfied: scipy<2,>=1 in c:\\users\\sverr\\appdata\\local\\programs\\python\\python311\\lib\\site-packages (from dataprep) (1.11.4)\n",
      "Requirement already satisfied: tqdm<5.0,>=4.48 in c:\\users\\sverr\\appdata\\local\\programs\\python\\python311\\lib\\site-packages (from dataprep) (4.66.2)\n",
      "Requirement already satisfied: usaddress<0.6.0,>=0.5.10 in c:\\users\\sverr\\appdata\\local\\programs\\python\\python311\\lib\\site-packages (from dataprep) (0.5.10)\n",
      "Requirement already satisfied: varname<0.9.0,>=0.8.1 in c:\\users\\sverr\\appdata\\local\\programs\\python\\python311\\lib\\site-packages (from dataprep) (0.8.3)\n",
      "Requirement already satisfied: wordcloud<2.0,>=1.8 in c:\\users\\sverr\\appdata\\local\\programs\\python\\python311\\lib\\site-packages (from dataprep) (1.9.3)\n",
      "Requirement already satisfied: aiosignal>=1.1.2 in c:\\users\\sverr\\appdata\\local\\programs\\python\\python311\\lib\\site-packages (from aiohttp<4.0,>=3.6->dataprep) (1.3.1)\n",
      "Requirement already satisfied: attrs>=17.3.0 in c:\\users\\sverr\\appdata\\local\\programs\\python\\python311\\lib\\site-packages (from aiohttp<4.0,>=3.6->dataprep) (23.2.0)\n",
      "Requirement already satisfied: frozenlist>=1.1.1 in c:\\users\\sverr\\appdata\\local\\programs\\python\\python311\\lib\\site-packages (from aiohttp<4.0,>=3.6->dataprep) (1.4.1)\n",
      "Requirement already satisfied: multidict<7.0,>=4.5 in c:\\users\\sverr\\appdata\\local\\programs\\python\\python311\\lib\\site-packages (from aiohttp<4.0,>=3.6->dataprep) (6.0.5)\n",
      "Requirement already satisfied: yarl<2.0,>=1.0 in c:\\users\\sverr\\appdata\\local\\programs\\python\\python311\\lib\\site-packages (from aiohttp<4.0,>=3.6->dataprep) (1.9.4)\n",
      "Requirement already satisfied: packaging>=16.8 in c:\\users\\sverr\\appdata\\roaming\\python\\python311\\site-packages (from bokeh<3,>=2->dataprep) (23.0)\n",
      "Requirement already satisfied: pillow>=7.1.0 in c:\\users\\sverr\\appdata\\local\\programs\\python\\python311\\lib\\site-packages (from bokeh<3,>=2->dataprep) (10.2.0)\n",
      "Requirement already satisfied: PyYAML>=3.10 in c:\\users\\sverr\\appdata\\local\\programs\\python\\python311\\lib\\site-packages (from bokeh<3,>=2->dataprep) (6.0.1)\n",
      "Requirement already satisfied: tornado>=5.1 in c:\\users\\sverr\\appdata\\roaming\\python\\python311\\site-packages (from bokeh<3,>=2->dataprep) (6.2)\n",
      "Requirement already satisfied: typing-extensions>=3.10.0 in c:\\users\\sverr\\appdata\\local\\programs\\python\\python311\\lib\\site-packages (from bokeh<3,>=2->dataprep) (4.10.0)\n",
      "Requirement already satisfied: toolz>=0.8.2 in c:\\users\\sverr\\appdata\\local\\programs\\python\\python311\\lib\\site-packages (from dask[array,dataframe,delayed]<3.0,>=2.25->dataprep) (0.12.1)\n",
      "Requirement already satisfied: partd>=0.3.10 in c:\\users\\sverr\\appdata\\local\\programs\\python\\python311\\lib\\site-packages (from dask[array,dataframe,delayed]<3.0,>=2.25->dataprep) (1.4.1)\n",
      "Requirement already satisfied: fsspec>=0.6.0 in c:\\users\\sverr\\appdata\\local\\programs\\python\\python311\\lib\\site-packages (from dask[array,dataframe,delayed]<3.0,>=2.25->dataprep) (2024.3.1)\n",
      "Requirement already satisfied: cloudpickle>=0.2.2 in c:\\users\\sverr\\appdata\\local\\programs\\python\\python311\\lib\\site-packages (from dask[array,dataframe,delayed]<3.0,>=2.25->dataprep) (3.0.0)\n",
      "Requirement already satisfied: Werkzeug<2.0,>=0.15 in c:\\users\\sverr\\appdata\\local\\programs\\python\\python311\\lib\\site-packages (from flask<2.0.0,>=1.1.4->dataprep) (1.0.1)\n",
      "Requirement already satisfied: itsdangerous<2.0,>=0.24 in c:\\users\\sverr\\appdata\\local\\programs\\python\\python311\\lib\\site-packages (from flask<2.0.0,>=1.1.4->dataprep) (1.1.0)\n",
      "Requirement already satisfied: click<8.0,>=5.1 in c:\\users\\sverr\\appdata\\local\\programs\\python\\python311\\lib\\site-packages (from flask<2.0.0,>=1.1.4->dataprep) (7.1.2)\n",
      "Requirement already satisfied: Six in c:\\users\\sverr\\appdata\\roaming\\python\\python311\\site-packages (from flask_cors<4.0.0,>=3.0.10->dataprep) (1.16.0)\n",
      "Requirement already satisfied: comm>=0.1.3 in c:\\users\\sverr\\appdata\\roaming\\python\\python311\\site-packages (from ipywidgets<8.0,>=7.5->dataprep) (0.1.3)\n",
      "Requirement already satisfied: ipython-genutils~=0.2.0 in c:\\users\\sverr\\appdata\\local\\programs\\python\\python311\\lib\\site-packages (from ipywidgets<8.0,>=7.5->dataprep) (0.2.0)\n",
      "Requirement already satisfied: traitlets>=4.3.1 in c:\\users\\sverr\\appdata\\roaming\\python\\python311\\site-packages (from ipywidgets<8.0,>=7.5->dataprep) (5.9.0)\n",
      "Requirement already satisfied: widgetsnbextension~=3.6.6 in c:\\users\\sverr\\appdata\\local\\programs\\python\\python311\\lib\\site-packages (from ipywidgets<8.0,>=7.5->dataprep) (3.6.6)\n",
      "Requirement already satisfied: ipython>=4.0.0 in c:\\users\\sverr\\appdata\\roaming\\python\\python311\\site-packages (from ipywidgets<8.0,>=7.5->dataprep) (8.12.0)\n",
      "Requirement already satisfied: jupyterlab-widgets<3,>=1.0.0 in c:\\users\\sverr\\appdata\\local\\programs\\python\\python311\\lib\\site-packages (from ipywidgets<8.0,>=7.5->dataprep) (1.1.7)\n",
      "Requirement already satisfied: MarkupSafe>=0.23 in c:\\users\\sverr\\appdata\\local\\programs\\python\\python311\\lib\\site-packages (from jinja2<3.0,>=2.11->dataprep) (2.1.5)\n",
      "Requirement already satisfied: ply in c:\\users\\sverr\\appdata\\local\\programs\\python\\python311\\lib\\site-packages (from jsonpath-ng<2.0,>=1.5->dataprep) (3.11)\n",
      "Requirement already satisfied: setuptools in c:\\users\\sverr\\appdata\\local\\programs\\python\\python311\\lib\\site-packages (from levenshtein<0.13.0,>=0.12.0->dataprep) (65.5.0)\n",
      "Requirement already satisfied: joblib in c:\\users\\sverr\\appdata\\local\\programs\\python\\python311\\lib\\site-packages (from nltk<4.0,>=3.5->dataprep) (1.3.2)\n",
      "Requirement already satisfied: python-dateutil>=2.8.1 in c:\\users\\sverr\\appdata\\roaming\\python\\python311\\site-packages (from pandas<2.0,>=1.1->dataprep) (2.8.2)\n",
      "Requirement already satisfied: pytz>=2020.1 in c:\\users\\sverr\\appdata\\local\\programs\\python\\python311\\lib\\site-packages (from pandas<2.0,>=1.1->dataprep) (2024.1)\n",
      "Requirement already satisfied: colorama in c:\\users\\sverr\\appdata\\roaming\\python\\python311\\site-packages (from tqdm<5.0,>=4.48->dataprep) (0.4.6)\n",
      "Requirement already satisfied: future>=0.14 in c:\\users\\sverr\\appdata\\local\\programs\\python\\python311\\lib\\site-packages (from usaddress<0.6.0,>=0.5.10->dataprep) (1.0.0)\n",
      "Requirement already satisfied: probableparsing in c:\\users\\sverr\\appdata\\local\\programs\\python\\python311\\lib\\site-packages (from usaddress<0.6.0,>=0.5.10->dataprep) (0.0.1)\n",
      "Requirement already satisfied: python-crfsuite>=0.7 in c:\\users\\sverr\\appdata\\local\\programs\\python\\python311\\lib\\site-packages (from usaddress<0.6.0,>=0.5.10->dataprep) (0.9.10)\n",
      "Requirement already satisfied: asttokens<3.0.0,>=2.0.0 in c:\\users\\sverr\\appdata\\roaming\\python\\python311\\site-packages (from varname<0.9.0,>=0.8.1->dataprep) (2.2.1)\n",
      "Requirement already satisfied: executing<0.9.0,>=0.8.3 in c:\\users\\sverr\\appdata\\local\\programs\\python\\python311\\lib\\site-packages (from varname<0.9.0,>=0.8.1->dataprep) (0.8.3)\n",
      "Requirement already satisfied: pure_eval<1.0.0 in c:\\users\\sverr\\appdata\\roaming\\python\\python311\\site-packages (from varname<0.9.0,>=0.8.1->dataprep) (0.2.2)\n",
      "Requirement already satisfied: matplotlib in c:\\users\\sverr\\appdata\\local\\programs\\python\\python311\\lib\\site-packages (from wordcloud<2.0,>=1.8->dataprep) (3.8.3)\n",
      "Requirement already satisfied: backcall in c:\\users\\sverr\\appdata\\roaming\\python\\python311\\site-packages (from ipython>=4.0.0->ipywidgets<8.0,>=7.5->dataprep) (0.2.0)\n",
      "Requirement already satisfied: decorator in c:\\users\\sverr\\appdata\\roaming\\python\\python311\\site-packages (from ipython>=4.0.0->ipywidgets<8.0,>=7.5->dataprep) (5.1.1)\n",
      "Requirement already satisfied: jedi>=0.16 in c:\\users\\sverr\\appdata\\roaming\\python\\python311\\site-packages (from ipython>=4.0.0->ipywidgets<8.0,>=7.5->dataprep) (0.18.2)\n",
      "Requirement already satisfied: matplotlib-inline in c:\\users\\sverr\\appdata\\roaming\\python\\python311\\site-packages (from ipython>=4.0.0->ipywidgets<8.0,>=7.5->dataprep) (0.1.6)\n",
      "Requirement already satisfied: pickleshare in c:\\users\\sverr\\appdata\\roaming\\python\\python311\\site-packages (from ipython>=4.0.0->ipywidgets<8.0,>=7.5->dataprep) (0.7.5)\n",
      "Requirement already satisfied: prompt-toolkit!=3.0.37,<3.1.0,>=3.0.30 in c:\\users\\sverr\\appdata\\roaming\\python\\python311\\site-packages (from ipython>=4.0.0->ipywidgets<8.0,>=7.5->dataprep) (3.0.38)\n",
      "Requirement already satisfied: pygments>=2.4.0 in c:\\users\\sverr\\appdata\\roaming\\python\\python311\\site-packages (from ipython>=4.0.0->ipywidgets<8.0,>=7.5->dataprep) (2.14.0)\n",
      "Requirement already satisfied: stack-data in c:\\users\\sverr\\appdata\\local\\programs\\python\\python311\\lib\\site-packages (from ipython>=4.0.0->ipywidgets<8.0,>=7.5->dataprep) (0.5.1)\n",
      "Requirement already satisfied: locket in c:\\users\\sverr\\appdata\\local\\programs\\python\\python311\\lib\\site-packages (from partd>=0.3.10->dask[array,dataframe,delayed]<3.0,>=2.25->dataprep) (1.0.0)\n",
      "Requirement already satisfied: notebook>=4.4.1 in c:\\users\\sverr\\appdata\\local\\programs\\python\\python311\\lib\\site-packages (from widgetsnbextension~=3.6.6->ipywidgets<8.0,>=7.5->dataprep) (6.5.6)\n",
      "Requirement already satisfied: idna>=2.0 in c:\\users\\sverr\\appdata\\local\\programs\\python\\python311\\lib\\site-packages (from yarl<2.0,>=1.0->aiohttp<4.0,>=3.6->dataprep) (3.6)\n",
      "Requirement already satisfied: contourpy>=1.0.1 in c:\\users\\sverr\\appdata\\local\\programs\\python\\python311\\lib\\site-packages (from matplotlib->wordcloud<2.0,>=1.8->dataprep) (1.2.0)\n",
      "Requirement already satisfied: cycler>=0.10 in c:\\users\\sverr\\appdata\\local\\programs\\python\\python311\\lib\\site-packages (from matplotlib->wordcloud<2.0,>=1.8->dataprep) (0.12.1)\n",
      "Requirement already satisfied: fonttools>=4.22.0 in c:\\users\\sverr\\appdata\\local\\programs\\python\\python311\\lib\\site-packages (from matplotlib->wordcloud<2.0,>=1.8->dataprep) (4.50.0)\n",
      "Requirement already satisfied: kiwisolver>=1.3.1 in c:\\users\\sverr\\appdata\\local\\programs\\python\\python311\\lib\\site-packages (from matplotlib->wordcloud<2.0,>=1.8->dataprep) (1.4.5)\n",
      "Requirement already satisfied: pyparsing>=2.3.1 in c:\\users\\sverr\\appdata\\local\\programs\\python\\python311\\lib\\site-packages (from matplotlib->wordcloud<2.0,>=1.8->dataprep) (3.1.2)\n",
      "Requirement already satisfied: parso<0.9.0,>=0.8.0 in c:\\users\\sverr\\appdata\\roaming\\python\\python311\\site-packages (from jedi>=0.16->ipython>=4.0.0->ipywidgets<8.0,>=7.5->dataprep) (0.8.3)\n",
      "Requirement already satisfied: pyzmq<25,>=17 in c:\\users\\sverr\\appdata\\local\\programs\\python\\python311\\lib\\site-packages (from notebook>=4.4.1->widgetsnbextension~=3.6.6->ipywidgets<8.0,>=7.5->dataprep) (24.0.1)\n",
      "Requirement already satisfied: argon2-cffi in c:\\users\\sverr\\appdata\\local\\programs\\python\\python311\\lib\\site-packages (from notebook>=4.4.1->widgetsnbextension~=3.6.6->ipywidgets<8.0,>=7.5->dataprep) (23.1.0)\n",
      "Requirement already satisfied: jupyter-core>=4.6.1 in c:\\users\\sverr\\appdata\\roaming\\python\\python311\\site-packages (from notebook>=4.4.1->widgetsnbextension~=3.6.6->ipywidgets<8.0,>=7.5->dataprep) (5.3.0)\n",
      "Requirement already satisfied: jupyter-client<8,>=5.3.4 in c:\\users\\sverr\\appdata\\local\\programs\\python\\python311\\lib\\site-packages (from notebook>=4.4.1->widgetsnbextension~=3.6.6->ipywidgets<8.0,>=7.5->dataprep) (7.4.9)\n",
      "Requirement already satisfied: nbformat in c:\\users\\sverr\\appdata\\local\\programs\\python\\python311\\lib\\site-packages (from notebook>=4.4.1->widgetsnbextension~=3.6.6->ipywidgets<8.0,>=7.5->dataprep) (5.10.3)\n",
      "Requirement already satisfied: nbconvert>=5 in c:\\users\\sverr\\appdata\\local\\programs\\python\\python311\\lib\\site-packages (from notebook>=4.4.1->widgetsnbextension~=3.6.6->ipywidgets<8.0,>=7.5->dataprep) (6.4.5)\n",
      "Requirement already satisfied: nest-asyncio>=1.5 in c:\\users\\sverr\\appdata\\roaming\\python\\python311\\site-packages (from notebook>=4.4.1->widgetsnbextension~=3.6.6->ipywidgets<8.0,>=7.5->dataprep) (1.5.6)\n",
      "Requirement already satisfied: ipykernel in c:\\users\\sverr\\appdata\\roaming\\python\\python311\\site-packages (from notebook>=4.4.1->widgetsnbextension~=3.6.6->ipywidgets<8.0,>=7.5->dataprep) (6.22.0)\n",
      "Requirement already satisfied: Send2Trash>=1.8.0 in c:\\users\\sverr\\appdata\\local\\programs\\python\\python311\\lib\\site-packages (from notebook>=4.4.1->widgetsnbextension~=3.6.6->ipywidgets<8.0,>=7.5->dataprep) (1.8.2)\n",
      "Requirement already satisfied: terminado>=0.8.3 in c:\\users\\sverr\\appdata\\local\\programs\\python\\python311\\lib\\site-packages (from notebook>=4.4.1->widgetsnbextension~=3.6.6->ipywidgets<8.0,>=7.5->dataprep) (0.18.1)\n",
      "Requirement already satisfied: prometheus-client in c:\\users\\sverr\\appdata\\local\\programs\\python\\python311\\lib\\site-packages (from notebook>=4.4.1->widgetsnbextension~=3.6.6->ipywidgets<8.0,>=7.5->dataprep) (0.20.0)\n",
      "Requirement already satisfied: nbclassic>=0.4.7 in c:\\users\\sverr\\appdata\\local\\programs\\python\\python311\\lib\\site-packages (from notebook>=4.4.1->widgetsnbextension~=3.6.6->ipywidgets<8.0,>=7.5->dataprep) (1.0.0)\n",
      "Requirement already satisfied: wcwidth in c:\\users\\sverr\\appdata\\roaming\\python\\python311\\site-packages (from prompt-toolkit!=3.0.37,<3.1.0,>=3.0.30->ipython>=4.0.0->ipywidgets<8.0,>=7.5->dataprep) (0.2.6)\n",
      "Requirement already satisfied: entrypoints in c:\\users\\sverr\\appdata\\local\\programs\\python\\python311\\lib\\site-packages (from jupyter-client<8,>=5.3.4->notebook>=4.4.1->widgetsnbextension~=3.6.6->ipywidgets<8.0,>=7.5->dataprep) (0.4)\n",
      "Requirement already satisfied: platformdirs>=2.5 in c:\\users\\sverr\\appdata\\roaming\\python\\python311\\site-packages (from jupyter-core>=4.6.1->notebook>=4.4.1->widgetsnbextension~=3.6.6->ipywidgets<8.0,>=7.5->dataprep) (3.2.0)\n",
      "Requirement already satisfied: pywin32>=300 in c:\\users\\sverr\\appdata\\roaming\\python\\python311\\site-packages (from jupyter-core>=4.6.1->notebook>=4.4.1->widgetsnbextension~=3.6.6->ipywidgets<8.0,>=7.5->dataprep) (306)\n",
      "Requirement already satisfied: jupyter-server>=1.8 in c:\\users\\sverr\\appdata\\local\\programs\\python\\python311\\lib\\site-packages (from nbclassic>=0.4.7->notebook>=4.4.1->widgetsnbextension~=3.6.6->ipywidgets<8.0,>=7.5->dataprep) (2.13.0)\n",
      "Requirement already satisfied: notebook-shim>=0.2.3 in c:\\users\\sverr\\appdata\\local\\programs\\python\\python311\\lib\\site-packages (from nbclassic>=0.4.7->notebook>=4.4.1->widgetsnbextension~=3.6.6->ipywidgets<8.0,>=7.5->dataprep) (0.2.4)\n",
      "Requirement already satisfied: mistune<2,>=0.8.1 in c:\\users\\sverr\\appdata\\local\\programs\\python\\python311\\lib\\site-packages (from nbconvert>=5->notebook>=4.4.1->widgetsnbextension~=3.6.6->ipywidgets<8.0,>=7.5->dataprep) (0.8.4)\n",
      "Requirement already satisfied: jupyterlab-pygments in c:\\users\\sverr\\appdata\\local\\programs\\python\\python311\\lib\\site-packages (from nbconvert>=5->notebook>=4.4.1->widgetsnbextension~=3.6.6->ipywidgets<8.0,>=7.5->dataprep) (0.3.0)\n",
      "Requirement already satisfied: bleach in c:\\users\\sverr\\appdata\\local\\programs\\python\\python311\\lib\\site-packages (from nbconvert>=5->notebook>=4.4.1->widgetsnbextension~=3.6.6->ipywidgets<8.0,>=7.5->dataprep) (6.1.0)\n",
      "Requirement already satisfied: pandocfilters>=1.4.1 in c:\\users\\sverr\\appdata\\local\\programs\\python\\python311\\lib\\site-packages (from nbconvert>=5->notebook>=4.4.1->widgetsnbextension~=3.6.6->ipywidgets<8.0,>=7.5->dataprep) (1.5.1)\n",
      "Requirement already satisfied: testpath in c:\\users\\sverr\\appdata\\local\\programs\\python\\python311\\lib\\site-packages (from nbconvert>=5->notebook>=4.4.1->widgetsnbextension~=3.6.6->ipywidgets<8.0,>=7.5->dataprep) (0.6.0)\n",
      "Requirement already satisfied: defusedxml in c:\\users\\sverr\\appdata\\local\\programs\\python\\python311\\lib\\site-packages (from nbconvert>=5->notebook>=4.4.1->widgetsnbextension~=3.6.6->ipywidgets<8.0,>=7.5->dataprep) (0.7.1)\n",
      "Requirement already satisfied: beautifulsoup4 in c:\\users\\sverr\\appdata\\local\\programs\\python\\python311\\lib\\site-packages (from nbconvert>=5->notebook>=4.4.1->widgetsnbextension~=3.6.6->ipywidgets<8.0,>=7.5->dataprep) (4.12.3)\n",
      "Requirement already satisfied: nbclient<0.6.0,>=0.5.0 in c:\\users\\sverr\\appdata\\local\\programs\\python\\python311\\lib\\site-packages (from nbconvert>=5->notebook>=4.4.1->widgetsnbextension~=3.6.6->ipywidgets<8.0,>=7.5->dataprep) (0.5.13)\n",
      "Requirement already satisfied: fastjsonschema in c:\\users\\sverr\\appdata\\local\\programs\\python\\python311\\lib\\site-packages (from nbformat->notebook>=4.4.1->widgetsnbextension~=3.6.6->ipywidgets<8.0,>=7.5->dataprep) (2.19.1)\n",
      "Requirement already satisfied: jsonschema>=2.6 in c:\\users\\sverr\\appdata\\local\\programs\\python\\python311\\lib\\site-packages (from nbformat->notebook>=4.4.1->widgetsnbextension~=3.6.6->ipywidgets<8.0,>=7.5->dataprep) (4.21.1)\n",
      "Requirement already satisfied: pywinpty>=1.1.0 in c:\\users\\sverr\\appdata\\local\\programs\\python\\python311\\lib\\site-packages (from terminado>=0.8.3->notebook>=4.4.1->widgetsnbextension~=3.6.6->ipywidgets<8.0,>=7.5->dataprep) (2.0.13)\n",
      "Requirement already satisfied: argon2-cffi-bindings in c:\\users\\sverr\\appdata\\local\\programs\\python\\python311\\lib\\site-packages (from argon2-cffi->notebook>=4.4.1->widgetsnbextension~=3.6.6->ipywidgets<8.0,>=7.5->dataprep) (21.2.0)\n",
      "Requirement already satisfied: debugpy>=1.6.5 in c:\\users\\sverr\\appdata\\roaming\\python\\python311\\site-packages (from ipykernel->notebook>=4.4.1->widgetsnbextension~=3.6.6->ipywidgets<8.0,>=7.5->dataprep) (1.6.7)\n",
      "Requirement already satisfied: psutil in c:\\users\\sverr\\appdata\\roaming\\python\\python311\\site-packages (from ipykernel->notebook>=4.4.1->widgetsnbextension~=3.6.6->ipywidgets<8.0,>=7.5->dataprep) (5.9.4)\n",
      "Requirement already satisfied: jsonschema-specifications>=2023.03.6 in c:\\users\\sverr\\appdata\\local\\programs\\python\\python311\\lib\\site-packages (from jsonschema>=2.6->nbformat->notebook>=4.4.1->widgetsnbextension~=3.6.6->ipywidgets<8.0,>=7.5->dataprep) (2023.12.1)\n",
      "Requirement already satisfied: referencing>=0.28.4 in c:\\users\\sverr\\appdata\\local\\programs\\python\\python311\\lib\\site-packages (from jsonschema>=2.6->nbformat->notebook>=4.4.1->widgetsnbextension~=3.6.6->ipywidgets<8.0,>=7.5->dataprep) (0.34.0)\n",
      "Requirement already satisfied: rpds-py>=0.7.1 in c:\\users\\sverr\\appdata\\local\\programs\\python\\python311\\lib\\site-packages (from jsonschema>=2.6->nbformat->notebook>=4.4.1->widgetsnbextension~=3.6.6->ipywidgets<8.0,>=7.5->dataprep) (0.18.0)\n",
      "Requirement already satisfied: anyio>=3.1.0 in c:\\users\\sverr\\appdata\\local\\programs\\python\\python311\\lib\\site-packages (from jupyter-server>=1.8->nbclassic>=0.4.7->notebook>=4.4.1->widgetsnbextension~=3.6.6->ipywidgets<8.0,>=7.5->dataprep) (4.3.0)\n",
      "Requirement already satisfied: jupyter-events>=0.9.0 in c:\\users\\sverr\\appdata\\local\\programs\\python\\python311\\lib\\site-packages (from jupyter-server>=1.8->nbclassic>=0.4.7->notebook>=4.4.1->widgetsnbextension~=3.6.6->ipywidgets<8.0,>=7.5->dataprep) (0.10.0)\n",
      "Requirement already satisfied: jupyter-server-terminals in c:\\users\\sverr\\appdata\\local\\programs\\python\\python311\\lib\\site-packages (from jupyter-server>=1.8->nbclassic>=0.4.7->notebook>=4.4.1->widgetsnbextension~=3.6.6->ipywidgets<8.0,>=7.5->dataprep) (0.5.3)\n",
      "Requirement already satisfied: overrides in c:\\users\\sverr\\appdata\\local\\programs\\python\\python311\\lib\\site-packages (from jupyter-server>=1.8->nbclassic>=0.4.7->notebook>=4.4.1->widgetsnbextension~=3.6.6->ipywidgets<8.0,>=7.5->dataprep) (7.7.0)\n",
      "Requirement already satisfied: websocket-client in c:\\users\\sverr\\appdata\\local\\programs\\python\\python311\\lib\\site-packages (from jupyter-server>=1.8->nbclassic>=0.4.7->notebook>=4.4.1->widgetsnbextension~=3.6.6->ipywidgets<8.0,>=7.5->dataprep) (1.7.0)\n",
      "Requirement already satisfied: cffi>=1.0.1 in c:\\users\\sverr\\appdata\\local\\programs\\python\\python311\\lib\\site-packages (from argon2-cffi-bindings->argon2-cffi->notebook>=4.4.1->widgetsnbextension~=3.6.6->ipywidgets<8.0,>=7.5->dataprep) (1.16.0)\n",
      "Requirement already satisfied: soupsieve>1.2 in c:\\users\\sverr\\appdata\\local\\programs\\python\\python311\\lib\\site-packages (from beautifulsoup4->nbconvert>=5->notebook>=4.4.1->widgetsnbextension~=3.6.6->ipywidgets<8.0,>=7.5->dataprep) (2.5)\n",
      "Requirement already satisfied: webencodings in c:\\users\\sverr\\appdata\\local\\programs\\python\\python311\\lib\\site-packages (from bleach->nbconvert>=5->notebook>=4.4.1->widgetsnbextension~=3.6.6->ipywidgets<8.0,>=7.5->dataprep) (0.5.1)\n",
      "Requirement already satisfied: sniffio>=1.1 in c:\\users\\sverr\\appdata\\local\\programs\\python\\python311\\lib\\site-packages (from anyio>=3.1.0->jupyter-server>=1.8->nbclassic>=0.4.7->notebook>=4.4.1->widgetsnbextension~=3.6.6->ipywidgets<8.0,>=7.5->dataprep) (1.3.1)\n",
      "Requirement already satisfied: pycparser in c:\\users\\sverr\\appdata\\local\\programs\\python\\python311\\lib\\site-packages (from cffi>=1.0.1->argon2-cffi-bindings->argon2-cffi->notebook>=4.4.1->widgetsnbextension~=3.6.6->ipywidgets<8.0,>=7.5->dataprep) (2.21)\n",
      "Requirement already satisfied: python-json-logger>=2.0.4 in c:\\users\\sverr\\appdata\\local\\programs\\python\\python311\\lib\\site-packages (from jupyter-events>=0.9.0->jupyter-server>=1.8->nbclassic>=0.4.7->notebook>=4.4.1->widgetsnbextension~=3.6.6->ipywidgets<8.0,>=7.5->dataprep) (2.0.7)\n",
      "Requirement already satisfied: rfc3339-validator in c:\\users\\sverr\\appdata\\local\\programs\\python\\python311\\lib\\site-packages (from jupyter-events>=0.9.0->jupyter-server>=1.8->nbclassic>=0.4.7->notebook>=4.4.1->widgetsnbextension~=3.6.6->ipywidgets<8.0,>=7.5->dataprep) (0.1.4)\n",
      "Requirement already satisfied: rfc3986-validator>=0.1.1 in c:\\users\\sverr\\appdata\\local\\programs\\python\\python311\\lib\\site-packages (from jupyter-events>=0.9.0->jupyter-server>=1.8->nbclassic>=0.4.7->notebook>=4.4.1->widgetsnbextension~=3.6.6->ipywidgets<8.0,>=7.5->dataprep) (0.1.1)\n",
      "Requirement already satisfied: fqdn in c:\\users\\sverr\\appdata\\local\\programs\\python\\python311\\lib\\site-packages (from jsonschema>=2.6->nbformat->notebook>=4.4.1->widgetsnbextension~=3.6.6->ipywidgets<8.0,>=7.5->dataprep) (1.5.1)\n",
      "Requirement already satisfied: isoduration in c:\\users\\sverr\\appdata\\local\\programs\\python\\python311\\lib\\site-packages (from jsonschema>=2.6->nbformat->notebook>=4.4.1->widgetsnbextension~=3.6.6->ipywidgets<8.0,>=7.5->dataprep) (20.11.0)\n",
      "Requirement already satisfied: jsonpointer>1.13 in c:\\users\\sverr\\appdata\\local\\programs\\python\\python311\\lib\\site-packages (from jsonschema>=2.6->nbformat->notebook>=4.4.1->widgetsnbextension~=3.6.6->ipywidgets<8.0,>=7.5->dataprep) (2.4)\n",
      "Requirement already satisfied: uri-template in c:\\users\\sverr\\appdata\\local\\programs\\python\\python311\\lib\\site-packages (from jsonschema>=2.6->nbformat->notebook>=4.4.1->widgetsnbextension~=3.6.6->ipywidgets<8.0,>=7.5->dataprep) (1.3.0)\n",
      "Requirement already satisfied: webcolors>=1.11 in c:\\users\\sverr\\appdata\\local\\programs\\python\\python311\\lib\\site-packages (from jsonschema>=2.6->nbformat->notebook>=4.4.1->widgetsnbextension~=3.6.6->ipywidgets<8.0,>=7.5->dataprep) (1.13)\n",
      "Requirement already satisfied: arrow>=0.15.0 in c:\\users\\sverr\\appdata\\local\\programs\\python\\python311\\lib\\site-packages (from isoduration->jsonschema>=2.6->nbformat->notebook>=4.4.1->widgetsnbextension~=3.6.6->ipywidgets<8.0,>=7.5->dataprep) (1.3.0)\n",
      "Requirement already satisfied: types-python-dateutil>=2.8.10 in c:\\users\\sverr\\appdata\\local\\programs\\python\\python311\\lib\\site-packages (from arrow>=0.15.0->isoduration->jsonschema>=2.6->nbformat->notebook>=4.4.1->widgetsnbextension~=3.6.6->ipywidgets<8.0,>=7.5->dataprep) (2.9.0.20240316)\n",
      "Note: you may need to restart the kernel to use updated packages.\n"
     ]
    },
    {
     "name": "stderr",
     "output_type": "stream",
     "text": [
      "\n",
      "[notice] A new release of pip available: 22.3.1 -> 24.0\n",
      "[notice] To update, run: python.exe -m pip install --upgrade pip\n"
     ]
    }
   ],
   "source": [
    "%pip install dataprep"
   ]
  },
  {
   "cell_type": "markdown",
   "metadata": {},
   "source": [
    "## Load data"
   ]
  },
  {
   "cell_type": "code",
   "execution_count": 3,
   "metadata": {},
   "outputs": [],
   "source": [
    "import pandas as pd\n",
    "import matplotlib.pyplot as plt\n",
    "import numpy as np\n",
    "\n",
    "# Load the dataset\n",
    "from src.data.data_loader import LocalDataLoader, MockDataLoader\n",
    "x, y = LocalDataLoader().load_raw_data()\n",
    "training_data = pd.concat([x, y], axis=1)\n"
   ]
  },
  {
   "cell_type": "markdown",
   "metadata": {},
   "source": [
    "### D-Tale\n",
    "D-Tale is an EDA tool that provides a web-based interface to explore your data. It integrates with Jupyter Notebooks and supports various features like filtering, sorting, and generating plots."
   ]
  },
  {
   "cell_type": "code",
   "execution_count": 4,
   "metadata": {},
   "outputs": [
    {
     "ename": "ImportError",
     "evalue": "cannot import name 'soft_unicode' from 'markupsafe' (c:\\Users\\sverr\\AppData\\Local\\Programs\\Python\\Python311\\Lib\\site-packages\\markupsafe\\__init__.py)",
     "output_type": "error",
     "traceback": [
      "\u001b[1;31m---------------------------------------------------------------------------\u001b[0m",
      "\u001b[1;31mImportError\u001b[0m                               Traceback (most recent call last)",
      "Cell \u001b[1;32mIn[4], line 1\u001b[0m\n\u001b[1;32m----> 1\u001b[0m \u001b[38;5;28;01mimport\u001b[39;00m \u001b[38;5;21;01mdtale\u001b[39;00m\n\u001b[0;32m      3\u001b[0m \u001b[38;5;28;01mfrom\u001b[39;00m \u001b[38;5;21;01msrc\u001b[39;00m\u001b[38;5;21;01m.\u001b[39;00m\u001b[38;5;21;01mconfig\u001b[39;00m \u001b[38;5;28;01mimport\u001b[39;00m FIGURE_PATH\n\u001b[0;32m      6\u001b[0m \u001b[38;5;66;03m# Start D-Tale session\u001b[39;00m\n",
      "File \u001b[1;32mc:\\Users\\sverr\\AppData\\Local\\Programs\\Python\\Python311\\Lib\\site-packages\\dtale\\__init__.py:3\u001b[0m\n\u001b[0;32m      1\u001b[0m \u001b[38;5;28;01mimport\u001b[39;00m \u001b[38;5;21;01mwarnings\u001b[39;00m\n\u001b[1;32m----> 3\u001b[0m \u001b[38;5;28;01mfrom\u001b[39;00m \u001b[38;5;21;01mflask\u001b[39;00m \u001b[38;5;28;01mimport\u001b[39;00m Blueprint\n\u001b[0;32m      5\u001b[0m \u001b[38;5;28;01mwith\u001b[39;00m warnings\u001b[38;5;241m.\u001b[39mcatch_warnings():\n\u001b[0;32m      6\u001b[0m     warnings\u001b[38;5;241m.\u001b[39mfilterwarnings(\n\u001b[0;32m      7\u001b[0m         \u001b[38;5;124m\"\u001b[39m\u001b[38;5;124mignore\u001b[39m\u001b[38;5;124m\"\u001b[39m,\n\u001b[0;32m      8\u001b[0m         (\n\u001b[1;32m   (...)\u001b[0m\n\u001b[0;32m     11\u001b[0m         ),\n\u001b[0;32m     12\u001b[0m     )\n",
      "File \u001b[1;32mc:\\Users\\sverr\\AppData\\Local\\Programs\\Python\\Python311\\Lib\\site-packages\\flask\\__init__.py:14\u001b[0m\n\u001b[0;32m      2\u001b[0m \u001b[38;5;124;03m\"\"\"\u001b[39;00m\n\u001b[0;32m      3\u001b[0m \u001b[38;5;124;03m    flask\u001b[39;00m\n\u001b[0;32m      4\u001b[0m \u001b[38;5;124;03m    ~~~~~\u001b[39;00m\n\u001b[1;32m   (...)\u001b[0m\n\u001b[0;32m     10\u001b[0m \u001b[38;5;124;03m    :license: BSD-3-Clause\u001b[39;00m\n\u001b[0;32m     11\u001b[0m \u001b[38;5;124;03m\"\"\"\u001b[39;00m\n\u001b[0;32m     12\u001b[0m \u001b[38;5;66;03m# utilities we import from Werkzeug and Jinja2 that are unused\u001b[39;00m\n\u001b[0;32m     13\u001b[0m \u001b[38;5;66;03m# in the module but are exported as public interface.\u001b[39;00m\n\u001b[1;32m---> 14\u001b[0m \u001b[38;5;28;01mfrom\u001b[39;00m \u001b[38;5;21;01mjinja2\u001b[39;00m \u001b[38;5;28;01mimport\u001b[39;00m escape\n\u001b[0;32m     15\u001b[0m \u001b[38;5;28;01mfrom\u001b[39;00m \u001b[38;5;21;01mjinja2\u001b[39;00m \u001b[38;5;28;01mimport\u001b[39;00m Markup\n\u001b[0;32m     16\u001b[0m \u001b[38;5;28;01mfrom\u001b[39;00m \u001b[38;5;21;01mwerkzeug\u001b[39;00m\u001b[38;5;21;01m.\u001b[39;00m\u001b[38;5;21;01mexceptions\u001b[39;00m \u001b[38;5;28;01mimport\u001b[39;00m abort\n",
      "File \u001b[1;32mc:\\Users\\sverr\\AppData\\Local\\Programs\\Python\\Python311\\Lib\\site-packages\\jinja2\\__init__.py:12\u001b[0m\n\u001b[0;32m     10\u001b[0m \u001b[38;5;28;01mfrom\u001b[39;00m \u001b[38;5;21;01m.\u001b[39;00m\u001b[38;5;21;01mbccache\u001b[39;00m \u001b[38;5;28;01mimport\u001b[39;00m FileSystemBytecodeCache\n\u001b[0;32m     11\u001b[0m \u001b[38;5;28;01mfrom\u001b[39;00m \u001b[38;5;21;01m.\u001b[39;00m\u001b[38;5;21;01mbccache\u001b[39;00m \u001b[38;5;28;01mimport\u001b[39;00m MemcachedBytecodeCache\n\u001b[1;32m---> 12\u001b[0m \u001b[38;5;28;01mfrom\u001b[39;00m \u001b[38;5;21;01m.\u001b[39;00m\u001b[38;5;21;01menvironment\u001b[39;00m \u001b[38;5;28;01mimport\u001b[39;00m Environment\n\u001b[0;32m     13\u001b[0m \u001b[38;5;28;01mfrom\u001b[39;00m \u001b[38;5;21;01m.\u001b[39;00m\u001b[38;5;21;01menvironment\u001b[39;00m \u001b[38;5;28;01mimport\u001b[39;00m Template\n\u001b[0;32m     14\u001b[0m \u001b[38;5;28;01mfrom\u001b[39;00m \u001b[38;5;21;01m.\u001b[39;00m\u001b[38;5;21;01mexceptions\u001b[39;00m \u001b[38;5;28;01mimport\u001b[39;00m TemplateAssertionError\n",
      "File \u001b[1;32mc:\\Users\\sverr\\AppData\\Local\\Programs\\Python\\Python311\\Lib\\site-packages\\jinja2\\environment.py:25\u001b[0m\n\u001b[0;32m     23\u001b[0m \u001b[38;5;28;01mfrom\u001b[39;00m \u001b[38;5;21;01m.\u001b[39;00m\u001b[38;5;21;01mcompiler\u001b[39;00m \u001b[38;5;28;01mimport\u001b[39;00m CodeGenerator\n\u001b[0;32m     24\u001b[0m \u001b[38;5;28;01mfrom\u001b[39;00m \u001b[38;5;21;01m.\u001b[39;00m\u001b[38;5;21;01mcompiler\u001b[39;00m \u001b[38;5;28;01mimport\u001b[39;00m generate\n\u001b[1;32m---> 25\u001b[0m \u001b[38;5;28;01mfrom\u001b[39;00m \u001b[38;5;21;01m.\u001b[39;00m\u001b[38;5;21;01mdefaults\u001b[39;00m \u001b[38;5;28;01mimport\u001b[39;00m BLOCK_END_STRING\n\u001b[0;32m     26\u001b[0m \u001b[38;5;28;01mfrom\u001b[39;00m \u001b[38;5;21;01m.\u001b[39;00m\u001b[38;5;21;01mdefaults\u001b[39;00m \u001b[38;5;28;01mimport\u001b[39;00m BLOCK_START_STRING\n\u001b[0;32m     27\u001b[0m \u001b[38;5;28;01mfrom\u001b[39;00m \u001b[38;5;21;01m.\u001b[39;00m\u001b[38;5;21;01mdefaults\u001b[39;00m \u001b[38;5;28;01mimport\u001b[39;00m COMMENT_END_STRING\n",
      "File \u001b[1;32mc:\\Users\\sverr\\AppData\\Local\\Programs\\Python\\Python311\\Lib\\site-packages\\jinja2\\defaults.py:3\u001b[0m\n\u001b[0;32m      1\u001b[0m \u001b[38;5;66;03m# -*- coding: utf-8 -*-\u001b[39;00m\n\u001b[0;32m      2\u001b[0m \u001b[38;5;28;01mfrom\u001b[39;00m \u001b[38;5;21;01m.\u001b[39;00m\u001b[38;5;21;01m_compat\u001b[39;00m \u001b[38;5;28;01mimport\u001b[39;00m range_type\n\u001b[1;32m----> 3\u001b[0m \u001b[38;5;28;01mfrom\u001b[39;00m \u001b[38;5;21;01m.\u001b[39;00m\u001b[38;5;21;01mfilters\u001b[39;00m \u001b[38;5;28;01mimport\u001b[39;00m FILTERS \u001b[38;5;28;01mas\u001b[39;00m DEFAULT_FILTERS  \u001b[38;5;66;03m# noqa: F401\u001b[39;00m\n\u001b[0;32m      4\u001b[0m \u001b[38;5;28;01mfrom\u001b[39;00m \u001b[38;5;21;01m.\u001b[39;00m\u001b[38;5;21;01mtests\u001b[39;00m \u001b[38;5;28;01mimport\u001b[39;00m TESTS \u001b[38;5;28;01mas\u001b[39;00m DEFAULT_TESTS  \u001b[38;5;66;03m# noqa: F401\u001b[39;00m\n\u001b[0;32m      5\u001b[0m \u001b[38;5;28;01mfrom\u001b[39;00m \u001b[38;5;21;01m.\u001b[39;00m\u001b[38;5;21;01mutils\u001b[39;00m \u001b[38;5;28;01mimport\u001b[39;00m Cycler\n",
      "File \u001b[1;32mc:\\Users\\sverr\\AppData\\Local\\Programs\\Python\\Python311\\Lib\\site-packages\\jinja2\\filters.py:13\u001b[0m\n\u001b[0;32m     11\u001b[0m \u001b[38;5;28;01mfrom\u001b[39;00m \u001b[38;5;21;01mmarkupsafe\u001b[39;00m \u001b[38;5;28;01mimport\u001b[39;00m escape\n\u001b[0;32m     12\u001b[0m \u001b[38;5;28;01mfrom\u001b[39;00m \u001b[38;5;21;01mmarkupsafe\u001b[39;00m \u001b[38;5;28;01mimport\u001b[39;00m Markup\n\u001b[1;32m---> 13\u001b[0m \u001b[38;5;28;01mfrom\u001b[39;00m \u001b[38;5;21;01mmarkupsafe\u001b[39;00m \u001b[38;5;28;01mimport\u001b[39;00m soft_unicode\n\u001b[0;32m     15\u001b[0m \u001b[38;5;28;01mfrom\u001b[39;00m \u001b[38;5;21;01m.\u001b[39;00m\u001b[38;5;21;01m_compat\u001b[39;00m \u001b[38;5;28;01mimport\u001b[39;00m abc\n\u001b[0;32m     16\u001b[0m \u001b[38;5;28;01mfrom\u001b[39;00m \u001b[38;5;21;01m.\u001b[39;00m\u001b[38;5;21;01m_compat\u001b[39;00m \u001b[38;5;28;01mimport\u001b[39;00m imap\n",
      "\u001b[1;31mImportError\u001b[0m: cannot import name 'soft_unicode' from 'markupsafe' (c:\\Users\\sverr\\AppData\\Local\\Programs\\Python\\Python311\\Lib\\site-packages\\markupsafe\\__init__.py)"
     ]
    }
   ],
   "source": [
    "import dtale\n",
    "\n",
    "from src.config import FIGURE_PATH\n",
    "\n",
    "\n",
    "# Start D-Tale session\n",
    "d_tale = dtale.show(training_data)\n",
    "\n",
    "# Open D-Tale in your browser\n",
    "d_tale.open_browser()\n",
    "d_tale.save(f\"{FIGURE_PATH}dtale.html\")\n"
   ]
  }
 ],
 "metadata": {
  "kernelspec": {
   "display_name": "Python 3",
   "language": "python",
   "name": "python3"
  },
  "language_info": {
   "codemirror_mode": {
    "name": "ipython",
    "version": 3
   },
   "file_extension": ".py",
   "mimetype": "text/x-python",
   "name": "python",
   "nbconvert_exporter": "python",
   "pygments_lexer": "ipython3",
   "version": "3.11.2"
  }
 },
 "nbformat": 4,
 "nbformat_minor": 2
}
