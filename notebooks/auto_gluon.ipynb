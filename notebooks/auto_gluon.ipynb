{
 "cells": [
  {
   "cell_type": "markdown",
   "metadata": {},
   "source": [
    "# AutoGluon"
   ]
  },
  {
   "cell_type": "markdown",
   "metadata": {},
   "source": [
    "## Setup\n",
    "### Correct the path"
   ]
  },
  {
   "cell_type": "code",
   "execution_count": null,
   "metadata": {},
   "outputs": [],
   "source": [
    "import sys\n",
    "import os\n",
    "\n",
    "# Get the current working directory\n",
    "current_working_directory = os.getcwd()\n",
    "\n",
    "# Go up one level from the current working directory\n",
    "parent_directory = os.path.join(current_working_directory, '..')\n",
    "\n",
    "# Add the parent directory to sys.path\n",
    "sys.path.append(parent_directory)\n",
    "\n",
    "os.getcwd()"
   ]
  },
  {
   "cell_type": "code",
   "execution_count": null,
   "metadata": {},
   "outputs": [],
   "source": [
    "%pip install autogluon\n",
    "%pip install scikit-learn"
   ]
  },
  {
   "cell_type": "code",
   "execution_count": null,
   "metadata": {},
   "outputs": [],
   "source": [
    "%load_ext autoreload"
   ]
  },
  {
   "cell_type": "code",
   "execution_count": null,
   "metadata": {},
   "outputs": [],
   "source": [
    "%autoreload \n",
    "\n",
    "from sklearn.metrics import accuracy_score, classification_report\n",
    "import autogluon.core as ag\n",
    "from autogluon.tabular import TabularDataset, TabularPredictor\n",
    "from datetime import datetime\n",
    "\n",
    "from src.features.post_processor import save_predictions\n",
    "from src.features.ml_service import  prepare_data, prepare_test_data"
   ]
  },
  {
   "cell_type": "markdown",
   "metadata": {},
   "source": [
    "## Load data"
   ]
  },
  {
   "cell_type": "code",
   "execution_count": null,
   "metadata": {},
   "outputs": [],
   "source": [
    "x_train, x_val, x_test, y_train, y_val, y_test = prepare_data()\n",
    "target_feature_name = \"IsFraud\"\n",
    "x_train[target_feature_name] = y_train  # Add the target column back to your training data\n",
    "\n",
    "data = TabularDataset(x_train)"
   ]
  },
  {
   "cell_type": "markdown",
   "metadata": {},
   "source": [
    "## Train model"
   ]
  },
  {
   "cell_type": "code",
   "execution_count": null,
   "metadata": {},
   "outputs": [],
   "source": [
    "# Initialize the AutoGluon TabularPredictor\n",
    "target_feature_name = \"IsFraud\"\n",
    "predictor = TabularPredictor(label=target_feature_name).fit(train_data=data)\n"
   ]
  },
  {
   "cell_type": "markdown",
   "metadata": {},
   "source": [
    "## Make predictions"
   ]
  },
  {
   "cell_type": "code",
   "execution_count": null,
   "metadata": {},
   "outputs": [],
   "source": [
    "\n",
    "# Evaluate on the validation set\n",
    "y_validate_pred = predictor.predict(x_val)\n",
    "valid_accuracy = accuracy_score(y_val, y_validate_pred)\n",
    "print(\"Validation Accuracy: \", valid_accuracy)\n",
    "\n",
    "# Evaluate on the test set\n",
    "y_test_pred = predictor.predict(x_test)\n",
    "test_accuracy = accuracy_score(y_test, y_test_pred)\n",
    "print(\"Test Accuracy: \", test_accuracy)\n",
    "print(\"Test Classification Report:\\n\", classification_report(y_test, y_test_pred))"
   ]
  },
  {
   "cell_type": "markdown",
   "metadata": {},
   "source": [
    "## Save model"
   ]
  },
  {
   "cell_type": "code",
   "execution_count": null,
   "metadata": {},
   "outputs": [],
   "source": [
    "\n",
    "x_test = prepare_test_data()\n",
    "final_predictions = predictor.predict(x_test)"
   ]
  },
  {
   "cell_type": "code",
   "execution_count": null,
   "metadata": {},
   "outputs": [],
   "source": [
    "# # Save the final predictions as a CSV file\n",
    "current_time = datetime.now().strftime(\"%Y%m%d%H%M%S\")\n",
    "save_predictions(final_predictions, f'predictions_auto_gluon_{current_time}.csv')"
   ]
  }
 ],
 "metadata": {
  "kernelspec": {
   "display_name": "Python 3",
   "language": "python",
   "name": "python3"
  },
  "language_info": {
   "codemirror_mode": {
    "name": "ipython",
    "version": 3
   },
   "file_extension": ".py",
   "mimetype": "text/x-python",
   "name": "python",
   "nbconvert_exporter": "python",
   "pygments_lexer": "ipython3",
   "version": "3.9.13"
  }
 },
 "nbformat": 4,
 "nbformat_minor": 2
}
